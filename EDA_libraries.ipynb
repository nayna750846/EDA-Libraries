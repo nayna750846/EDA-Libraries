{
 "cells": [
  {
   "cell_type": "markdown",
   "metadata": {},
   "source": [
    "# dtale"
   ]
  },
  {
   "cell_type": "code",
   "execution_count": 1,
   "metadata": {},
   "outputs": [
    {
     "name": "stdout",
     "output_type": "stream",
     "text": [
      "Collecting dtale\n",
      "  Downloading dtale-1.46.0-py2.py3-none-any.whl (14.4 MB)\n",
      "Collecting dash-daq\n",
      "  Downloading dash_daq-0.5.0.tar.gz (642 kB)\n",
      "Collecting flask-ngrok; python_version > \"3.0\"\n",
      "  Downloading flask_ngrok-0.0.25-py3-none-any.whl (3.1 kB)\n",
      "Requirement already satisfied: itsdangerous in e:\\nay\\lib\\site-packages (from dtale) (1.1.0)\n",
      "Collecting xarray; python_version >= \"3.0\"\n",
      "  Downloading xarray-0.18.0-py3-none-any.whl (801 kB)\n",
      "Requirement already satisfied: scipy in e:\\nay\\lib\\site-packages (from dtale) (1.5.2)\n",
      "Requirement already satisfied: requests in e:\\nay\\lib\\site-packages (from dtale) (2.24.0)\n",
      "Requirement already satisfied: scikit-learn in e:\\nay\\lib\\site-packages (from dtale) (0.23.2)\n",
      "Requirement already satisfied: Flask>=1.0 in e:\\nay\\lib\\site-packages (from dtale) (1.1.2)\n",
      "Requirement already satisfied: future>=0.14.0 in e:\\nay\\lib\\site-packages (from dtale) (0.18.2)\n",
      "Collecting plotly>=4.9.0\n",
      "  Downloading plotly-4.14.3-py2.py3-none-any.whl (13.2 MB)\n",
      "Requirement already satisfied: xlrd in e:\\nay\\lib\\site-packages (from dtale) (1.2.0)\n",
      "Requirement already satisfied: openpyxl; python_version >= \"3.0\" in e:\\nay\\lib\\site-packages (from dtale) (3.0.5)\n",
      "Collecting lz4; python_version > \"3.0\"\n",
      "  Downloading lz4-3.1.3-cp38-cp38-win_amd64.whl (192 kB)\n",
      "Collecting ppscore; python_version >= \"3.6\"\n",
      "  Downloading ppscore-1.2.0.tar.gz (47 kB)\n",
      "Requirement already satisfied: nbformat in e:\\nay\\lib\\site-packages (from dtale) (5.0.8)\n",
      "Collecting dash-bootstrap-components; python_version > \"3.0\"\n",
      "  Downloading dash_bootstrap_components-0.12.2-py3-none-any.whl (191 kB)\n",
      "Requirement already satisfied: pandas in e:\\nay\\lib\\site-packages (from dtale) (1.1.3)\n",
      "Collecting squarify\n",
      "  Downloading squarify-0.4.3-py3-none-any.whl (4.3 kB)\n",
      "Requirement already satisfied: six in e:\\nay\\lib\\site-packages (from dtale) (1.15.0)\n",
      "Collecting dash>=1.5.0\n",
      "  Downloading dash-1.20.0.tar.gz (77 kB)\n",
      "Collecting dash-colorscales\n",
      "  Downloading dash_colorscales-0.0.4.tar.gz (62 kB)\n",
      "Requirement already satisfied: statsmodels; python_version > \"3.0\" in e:\\nay\\lib\\site-packages (from dtale) (0.12.0)\n",
      "Requirement already satisfied: et-xmlfile; python_version >= \"3.6\" in e:\\nay\\lib\\site-packages (from dtale) (1.0.1)\n",
      "Collecting Flask-Compress\n",
      "  Downloading Flask_Compress-1.9.0-py3-none-any.whl (7.3 kB)\n",
      "Collecting strsimpy\n",
      "  Downloading strsimpy-0.2.0-py3-none-any.whl (45 kB)\n",
      "Requirement already satisfied: networkx; python_version >= \"3.0\" in e:\\nay\\lib\\site-packages (from dtale) (2.5)\n",
      "Requirement already satisfied: seaborn; python_version >= \"3.6\" in e:\\nay\\lib\\site-packages (from dtale) (0.11.0)\n",
      "Collecting kaleido; python_version > \"3.6\"\n",
      "  Downloading kaleido-0.2.1-py2.py3-none-win_amd64.whl (65.9 MB)\n",
      "Collecting missingno\n",
      "  Downloading missingno-0.4.2-py3-none-any.whl (9.7 kB)\n",
      "Requirement already satisfied: setuptools>=40.4 in e:\\nay\\lib\\site-packages (from xarray; python_version >= \"3.0\"->dtale) (50.3.1.post20201107)\n",
      "Requirement already satisfied: numpy>=1.17 in e:\\nay\\lib\\site-packages (from xarray; python_version >= \"3.0\"->dtale) (1.19.2)\n",
      "Requirement already satisfied: certifi>=2017.4.17 in e:\\nay\\lib\\site-packages (from requests->dtale) (2020.6.20)\n",
      "Requirement already satisfied: urllib3!=1.25.0,!=1.25.1,<1.26,>=1.21.1 in e:\\nay\\lib\\site-packages (from requests->dtale) (1.25.11)\n",
      "Requirement already satisfied: idna<3,>=2.5 in e:\\nay\\lib\\site-packages (from requests->dtale) (2.10)\n",
      "Requirement already satisfied: chardet<4,>=3.0.2 in e:\\nay\\lib\\site-packages (from requests->dtale) (3.0.4)\n",
      "Requirement already satisfied: threadpoolctl>=2.0.0 in e:\\nay\\lib\\site-packages (from scikit-learn->dtale) (2.1.0)\n",
      "Requirement already satisfied: joblib>=0.11 in e:\\nay\\lib\\site-packages (from scikit-learn->dtale) (0.17.0)\n",
      "Requirement already satisfied: Jinja2>=2.10.1 in e:\\nay\\lib\\site-packages (from Flask>=1.0->dtale) (2.11.2)\n",
      "Requirement already satisfied: Werkzeug>=0.15 in e:\\nay\\lib\\site-packages (from Flask>=1.0->dtale) (1.0.1)\n",
      "Requirement already satisfied: click>=5.1 in e:\\nay\\lib\\site-packages (from Flask>=1.0->dtale) (7.1.2)\n",
      "Collecting retrying>=1.3.3\n",
      "  Downloading retrying-1.3.3.tar.gz (10 kB)\n",
      "Requirement already satisfied: jdcal in e:\\nay\\lib\\site-packages (from openpyxl; python_version >= \"3.0\"->dtale) (1.4.1)\n",
      "Requirement already satisfied: jupyter-core in e:\\nay\\lib\\site-packages (from nbformat->dtale) (4.6.3)\n",
      "Requirement already satisfied: jsonschema!=2.5.0,>=2.4 in e:\\nay\\lib\\site-packages (from nbformat->dtale) (3.2.0)\n",
      "Requirement already satisfied: traitlets>=4.1 in e:\\nay\\lib\\site-packages (from nbformat->dtale) (5.0.5)\n",
      "Requirement already satisfied: ipython-genutils in e:\\nay\\lib\\site-packages (from nbformat->dtale) (0.2.0)\n",
      "Requirement already satisfied: pytz>=2017.2 in e:\\nay\\lib\\site-packages (from pandas->dtale) (2020.1)\n",
      "Requirement already satisfied: python-dateutil>=2.7.3 in e:\\nay\\lib\\site-packages (from pandas->dtale) (2.8.1)\n",
      "Collecting dash_renderer==1.9.1\n",
      "  Downloading dash_renderer-1.9.1.tar.gz (1.0 MB)\n",
      "Collecting dash-core-components==1.16.0\n",
      "  Downloading dash_core_components-1.16.0.tar.gz (3.5 MB)\n",
      "Collecting dash-html-components==1.1.3\n",
      "  Downloading dash_html_components-1.1.3.tar.gz (82 kB)\n",
      "Collecting dash-table==4.11.3\n",
      "  Downloading dash_table-4.11.3.tar.gz (1.8 MB)\n",
      "Requirement already satisfied: patsy>=0.5 in e:\\nay\\lib\\site-packages (from statsmodels; python_version > \"3.0\"->dtale) (0.5.1)\n",
      "Collecting brotli\n",
      "  Downloading Brotli-1.0.9-cp38-cp38-win_amd64.whl (365 kB)\n",
      "Requirement already satisfied: decorator>=4.3.0 in e:\\nay\\lib\\site-packages (from networkx; python_version >= \"3.0\"->dtale) (4.4.2)\n",
      "Requirement already satisfied: matplotlib>=2.2 in e:\\nay\\lib\\site-packages (from seaborn; python_version >= \"3.6\"->dtale) (3.3.2)\n",
      "Requirement already satisfied: MarkupSafe>=0.23 in e:\\nay\\lib\\site-packages (from Jinja2>=2.10.1->Flask>=1.0->dtale) (1.1.1)\n",
      "Requirement already satisfied: pywin32>=1.0; sys_platform == \"win32\" in e:\\nay\\lib\\site-packages (from jupyter-core->nbformat->dtale) (227)\n",
      "Requirement already satisfied: attrs>=17.4.0 in e:\\nay\\lib\\site-packages (from jsonschema!=2.5.0,>=2.4->nbformat->dtale) (20.3.0)\n",
      "Requirement already satisfied: pyrsistent>=0.14.0 in e:\\nay\\lib\\site-packages (from jsonschema!=2.5.0,>=2.4->nbformat->dtale) (0.17.3)\n",
      "Requirement already satisfied: pillow>=6.2.0 in e:\\nay\\lib\\site-packages (from matplotlib>=2.2->seaborn; python_version >= \"3.6\"->dtale) (8.0.1)\n",
      "Requirement already satisfied: kiwisolver>=1.0.1 in e:\\nay\\lib\\site-packages (from matplotlib>=2.2->seaborn; python_version >= \"3.6\"->dtale) (1.3.0)\n",
      "Requirement already satisfied: pyparsing!=2.0.4,!=2.1.2,!=2.1.6,>=2.0.3 in e:\\nay\\lib\\site-packages (from matplotlib>=2.2->seaborn; python_version >= \"3.6\"->dtale) (2.4.7)\n",
      "Requirement already satisfied: cycler>=0.10 in e:\\nay\\lib\\site-packages (from matplotlib>=2.2->seaborn; python_version >= \"3.6\"->dtale) (0.10.0)\n",
      "Building wheels for collected packages: dash-daq, ppscore, dash, dash-colorscales, retrying, dash-renderer, dash-core-components, dash-html-components, dash-table\n",
      "  Building wheel for dash-daq (setup.py): started\n",
      "  Building wheel for dash-daq (setup.py): finished with status 'done'\n",
      "  Created wheel for dash-daq: filename=dash_daq-0.5.0-py3-none-any.whl size=669706 sha256=8c7cd41fdbcd3bf2835bb10519aaf9996440526721d9ac01bc43925f69810145\n",
      "  Stored in directory: c:\\users\\my dell\\appdata\\local\\pip\\cache\\wheels\\00\\35\\e5\\57e90f10c529601c6627400513cb65dd5adb09752411f5a050\n",
      "  Building wheel for ppscore (setup.py): started\n",
      "  Building wheel for ppscore (setup.py): finished with status 'done'\n",
      "  Created wheel for ppscore: filename=ppscore-1.2.0-py2.py3-none-any.whl size=13055 sha256=ba8b272ca1693c0960ecdf6fa9d7cabc6590c70dafbf927f81a96f39f438b5f9\n",
      "  Stored in directory: c:\\users\\my dell\\appdata\\local\\pip\\cache\\wheels\\fb\\0e\\65\\da65ce669381fc01b6ef990d301d3586991f89bff1175877a4\n",
      "  Building wheel for dash (setup.py): started\n",
      "  Building wheel for dash (setup.py): finished with status 'done'\n",
      "  Created wheel for dash: filename=dash-1.20.0-py3-none-any.whl size=85836 sha256=60de26e2efffb11ecb5e9ce453d5e740f96a2b906303392655cf73a0032d6e44\n",
      "  Stored in directory: c:\\users\\my dell\\appdata\\local\\pip\\cache\\wheels\\e3\\1e\\fa\\0c810b67f082a7b9f33a128f6374b03cf5245edc45e37adbf8\n",
      "  Building wheel for dash-colorscales (setup.py): started\n",
      "  Building wheel for dash-colorscales (setup.py): finished with status 'done'\n",
      "  Created wheel for dash-colorscales: filename=dash_colorscales-0.0.4-py3-none-any.whl size=62603 sha256=a97249689d51e289802d7010b26b2be68965914f5777830981c6d4e63a4c768e\n",
      "  Stored in directory: c:\\users\\my dell\\appdata\\local\\pip\\cache\\wheels\\fe\\33\\33\\172dbfe1efc739352828854a113df599a428b58f68ed0c4f75\n",
      "  Building wheel for retrying (setup.py): started\n",
      "  Building wheel for retrying (setup.py): finished with status 'done'\n",
      "  Created wheel for retrying: filename=retrying-1.3.3-py3-none-any.whl size=11434 sha256=4c21c68384cfb92d919f85fd43f685e18753d17e64b7b8ae3fae51e550596b80\n",
      "  Stored in directory: c:\\users\\my dell\\appdata\\local\\pip\\cache\\wheels\\c4\\a7\\48\\0a434133f6d56e878ca511c0e6c38326907c0792f67b476e56\n",
      "  Building wheel for dash-renderer (setup.py): started\n",
      "  Building wheel for dash-renderer (setup.py): finished with status 'done'\n",
      "  Created wheel for dash-renderer: filename=dash_renderer-1.9.1-py3-none-any.whl size=1014879 sha256=f50e08ec4a73fa219664758d387f2e1f000d24730c99fd3dfae5a7259a602fab\n",
      "  Stored in directory: c:\\users\\my dell\\appdata\\local\\pip\\cache\\wheels\\ac\\7e\\fd\\807844722d79d8babcd27b16e5f7ecc7b476c45ca607c11729\n",
      "  Building wheel for dash-core-components (setup.py): started\n",
      "  Building wheel for dash-core-components (setup.py): finished with status 'done'\n",
      "  Created wheel for dash-core-components: filename=dash_core_components-1.16.0-py3-none-any.whl size=3540995 sha256=66d2808a455e5c250747b7e20ebab8852216beab6d87604b3357b1938d15e6b4\n",
      "  Stored in directory: c:\\users\\my dell\\appdata\\local\\pip\\cache\\wheels\\68\\92\\0c\\4ac6d91639a754ebf3adfab7172c61fe408e7c71d00b8cbf66\n",
      "  Building wheel for dash-html-components (setup.py): started\n",
      "  Building wheel for dash-html-components (setup.py): finished with status 'done'\n",
      "  Created wheel for dash-html-components: filename=dash_html_components-1.1.3-py3-none-any.whl size=319476 sha256=5540c27134537942e371bce08d2506adbf1bd2df9f34f26237774e3dc6524e2a\n",
      "  Stored in directory: c:\\users\\my dell\\appdata\\local\\pip\\cache\\wheels\\2a\\a3\\33\\bf6842d5d279588f8989ee8c2f9d9d8feb7af82216493a1eea\n",
      "  Building wheel for dash-table (setup.py): started\n",
      "  Building wheel for dash-table (setup.py): finished with status 'done'\n",
      "  Created wheel for dash-table: filename=dash_table-4.11.3-py3-none-any.whl size=1827621 sha256=30383891ace674f12b0750d8d122d72d5c7885e8bddf86f7488fc7a2bc0cc437\n",
      "  Stored in directory: c:\\users\\my dell\\appdata\\local\\pip\\cache\\wheels\\0c\\9c\\bd\\06904831bdaa998ad1f53584553c5e06324814328666699128\n",
      "Successfully built dash-daq ppscore dash dash-colorscales retrying dash-renderer dash-core-components dash-html-components dash-table\n",
      "Installing collected packages: brotli, Flask-Compress, retrying, plotly, dash-renderer, dash-core-components, dash-html-components, dash-table, dash, dash-daq, flask-ngrok, xarray, lz4, ppscore, dash-bootstrap-components, squarify, dash-colorscales, strsimpy, kaleido, missingno, dtale\n",
      "Successfully installed Flask-Compress-1.9.0 brotli-1.0.9 dash-1.20.0 dash-bootstrap-components-0.12.2 dash-colorscales-0.0.4 dash-core-components-1.16.0 dash-daq-0.5.0 dash-html-components-1.1.3 dash-renderer-1.9.1 dash-table-4.11.3 dtale-1.46.0 flask-ngrok-0.0.25 kaleido-0.2.1 lz4-3.1.3 missingno-0.4.2 plotly-4.14.3 ppscore-1.2.0 retrying-1.3.3 squarify-0.4.3 strsimpy-0.2.0 xarray-0.18.0\n"
     ]
    }
   ],
   "source": [
    "!pip install dtale"
   ]
  },
  {
   "cell_type": "code",
   "execution_count": 3,
   "metadata": {},
   "outputs": [],
   "source": [
    "import seaborn as sns \n",
    "df =sns.load_dataset('titanic')"
   ]
  },
  {
   "cell_type": "code",
   "execution_count": 5,
   "metadata": {},
   "outputs": [
    {
     "data": {
      "text/html": [
       "<div>\n",
       "<style scoped>\n",
       "    .dataframe tbody tr th:only-of-type {\n",
       "        vertical-align: middle;\n",
       "    }\n",
       "\n",
       "    .dataframe tbody tr th {\n",
       "        vertical-align: top;\n",
       "    }\n",
       "\n",
       "    .dataframe thead th {\n",
       "        text-align: right;\n",
       "    }\n",
       "</style>\n",
       "<table border=\"1\" class=\"dataframe\">\n",
       "  <thead>\n",
       "    <tr style=\"text-align: right;\">\n",
       "      <th></th>\n",
       "      <th>survived</th>\n",
       "      <th>pclass</th>\n",
       "      <th>sex</th>\n",
       "      <th>age</th>\n",
       "      <th>sibsp</th>\n",
       "      <th>parch</th>\n",
       "      <th>fare</th>\n",
       "      <th>embarked</th>\n",
       "      <th>class</th>\n",
       "      <th>who</th>\n",
       "      <th>adult_male</th>\n",
       "      <th>deck</th>\n",
       "      <th>embark_town</th>\n",
       "      <th>alive</th>\n",
       "      <th>alone</th>\n",
       "    </tr>\n",
       "  </thead>\n",
       "  <tbody>\n",
       "    <tr>\n",
       "      <th>0</th>\n",
       "      <td>0</td>\n",
       "      <td>3</td>\n",
       "      <td>male</td>\n",
       "      <td>22.0</td>\n",
       "      <td>1</td>\n",
       "      <td>0</td>\n",
       "      <td>7.2500</td>\n",
       "      <td>S</td>\n",
       "      <td>Third</td>\n",
       "      <td>man</td>\n",
       "      <td>True</td>\n",
       "      <td>NaN</td>\n",
       "      <td>Southampton</td>\n",
       "      <td>no</td>\n",
       "      <td>False</td>\n",
       "    </tr>\n",
       "    <tr>\n",
       "      <th>1</th>\n",
       "      <td>1</td>\n",
       "      <td>1</td>\n",
       "      <td>female</td>\n",
       "      <td>38.0</td>\n",
       "      <td>1</td>\n",
       "      <td>0</td>\n",
       "      <td>71.2833</td>\n",
       "      <td>C</td>\n",
       "      <td>First</td>\n",
       "      <td>woman</td>\n",
       "      <td>False</td>\n",
       "      <td>C</td>\n",
       "      <td>Cherbourg</td>\n",
       "      <td>yes</td>\n",
       "      <td>False</td>\n",
       "    </tr>\n",
       "    <tr>\n",
       "      <th>2</th>\n",
       "      <td>1</td>\n",
       "      <td>3</td>\n",
       "      <td>female</td>\n",
       "      <td>26.0</td>\n",
       "      <td>0</td>\n",
       "      <td>0</td>\n",
       "      <td>7.9250</td>\n",
       "      <td>S</td>\n",
       "      <td>Third</td>\n",
       "      <td>woman</td>\n",
       "      <td>False</td>\n",
       "      <td>NaN</td>\n",
       "      <td>Southampton</td>\n",
       "      <td>yes</td>\n",
       "      <td>True</td>\n",
       "    </tr>\n",
       "    <tr>\n",
       "      <th>3</th>\n",
       "      <td>1</td>\n",
       "      <td>1</td>\n",
       "      <td>female</td>\n",
       "      <td>35.0</td>\n",
       "      <td>1</td>\n",
       "      <td>0</td>\n",
       "      <td>53.1000</td>\n",
       "      <td>S</td>\n",
       "      <td>First</td>\n",
       "      <td>woman</td>\n",
       "      <td>False</td>\n",
       "      <td>C</td>\n",
       "      <td>Southampton</td>\n",
       "      <td>yes</td>\n",
       "      <td>False</td>\n",
       "    </tr>\n",
       "    <tr>\n",
       "      <th>4</th>\n",
       "      <td>0</td>\n",
       "      <td>3</td>\n",
       "      <td>male</td>\n",
       "      <td>35.0</td>\n",
       "      <td>0</td>\n",
       "      <td>0</td>\n",
       "      <td>8.0500</td>\n",
       "      <td>S</td>\n",
       "      <td>Third</td>\n",
       "      <td>man</td>\n",
       "      <td>True</td>\n",
       "      <td>NaN</td>\n",
       "      <td>Southampton</td>\n",
       "      <td>no</td>\n",
       "      <td>True</td>\n",
       "    </tr>\n",
       "    <tr>\n",
       "      <th>5</th>\n",
       "      <td>0</td>\n",
       "      <td>3</td>\n",
       "      <td>male</td>\n",
       "      <td>NaN</td>\n",
       "      <td>0</td>\n",
       "      <td>0</td>\n",
       "      <td>8.4583</td>\n",
       "      <td>Q</td>\n",
       "      <td>Third</td>\n",
       "      <td>man</td>\n",
       "      <td>True</td>\n",
       "      <td>NaN</td>\n",
       "      <td>Queenstown</td>\n",
       "      <td>no</td>\n",
       "      <td>True</td>\n",
       "    </tr>\n",
       "    <tr>\n",
       "      <th>6</th>\n",
       "      <td>0</td>\n",
       "      <td>1</td>\n",
       "      <td>male</td>\n",
       "      <td>54.0</td>\n",
       "      <td>0</td>\n",
       "      <td>0</td>\n",
       "      <td>51.8625</td>\n",
       "      <td>S</td>\n",
       "      <td>First</td>\n",
       "      <td>man</td>\n",
       "      <td>True</td>\n",
       "      <td>E</td>\n",
       "      <td>Southampton</td>\n",
       "      <td>no</td>\n",
       "      <td>True</td>\n",
       "    </tr>\n",
       "    <tr>\n",
       "      <th>7</th>\n",
       "      <td>0</td>\n",
       "      <td>3</td>\n",
       "      <td>male</td>\n",
       "      <td>2.0</td>\n",
       "      <td>3</td>\n",
       "      <td>1</td>\n",
       "      <td>21.0750</td>\n",
       "      <td>S</td>\n",
       "      <td>Third</td>\n",
       "      <td>child</td>\n",
       "      <td>False</td>\n",
       "      <td>NaN</td>\n",
       "      <td>Southampton</td>\n",
       "      <td>no</td>\n",
       "      <td>False</td>\n",
       "    </tr>\n",
       "    <tr>\n",
       "      <th>8</th>\n",
       "      <td>1</td>\n",
       "      <td>3</td>\n",
       "      <td>female</td>\n",
       "      <td>27.0</td>\n",
       "      <td>0</td>\n",
       "      <td>2</td>\n",
       "      <td>11.1333</td>\n",
       "      <td>S</td>\n",
       "      <td>Third</td>\n",
       "      <td>woman</td>\n",
       "      <td>False</td>\n",
       "      <td>NaN</td>\n",
       "      <td>Southampton</td>\n",
       "      <td>yes</td>\n",
       "      <td>False</td>\n",
       "    </tr>\n",
       "    <tr>\n",
       "      <th>9</th>\n",
       "      <td>1</td>\n",
       "      <td>2</td>\n",
       "      <td>female</td>\n",
       "      <td>14.0</td>\n",
       "      <td>1</td>\n",
       "      <td>0</td>\n",
       "      <td>30.0708</td>\n",
       "      <td>C</td>\n",
       "      <td>Second</td>\n",
       "      <td>child</td>\n",
       "      <td>False</td>\n",
       "      <td>NaN</td>\n",
       "      <td>Cherbourg</td>\n",
       "      <td>yes</td>\n",
       "      <td>False</td>\n",
       "    </tr>\n",
       "  </tbody>\n",
       "</table>\n",
       "</div>"
      ],
      "text/plain": [
       "   survived  pclass     sex   age  sibsp  parch     fare embarked   class  \\\n",
       "0         0       3    male  22.0      1      0   7.2500        S   Third   \n",
       "1         1       1  female  38.0      1      0  71.2833        C   First   \n",
       "2         1       3  female  26.0      0      0   7.9250        S   Third   \n",
       "3         1       1  female  35.0      1      0  53.1000        S   First   \n",
       "4         0       3    male  35.0      0      0   8.0500        S   Third   \n",
       "5         0       3    male   NaN      0      0   8.4583        Q   Third   \n",
       "6         0       1    male  54.0      0      0  51.8625        S   First   \n",
       "7         0       3    male   2.0      3      1  21.0750        S   Third   \n",
       "8         1       3  female  27.0      0      2  11.1333        S   Third   \n",
       "9         1       2  female  14.0      1      0  30.0708        C  Second   \n",
       "\n",
       "     who  adult_male deck  embark_town alive  alone  \n",
       "0    man        True  NaN  Southampton    no  False  \n",
       "1  woman       False    C    Cherbourg   yes  False  \n",
       "2  woman       False  NaN  Southampton   yes   True  \n",
       "3  woman       False    C  Southampton   yes  False  \n",
       "4    man        True  NaN  Southampton    no   True  \n",
       "5    man        True  NaN   Queenstown    no   True  \n",
       "6    man        True    E  Southampton    no   True  \n",
       "7  child       False  NaN  Southampton    no  False  \n",
       "8  woman       False  NaN  Southampton   yes  False  \n",
       "9  child       False  NaN    Cherbourg   yes  False  "
      ]
     },
     "execution_count": 5,
     "metadata": {},
     "output_type": "execute_result"
    }
   ],
   "source": [
    "df.head(10)"
   ]
  },
  {
   "cell_type": "code",
   "execution_count": 6,
   "metadata": {},
   "outputs": [],
   "source": [
    "import dtale"
   ]
  },
  {
   "cell_type": "code",
   "execution_count": 7,
   "metadata": {
    "scrolled": true
   },
   "outputs": [
    {
     "name": "stderr",
     "output_type": "stream",
     "text": [
      "2021-05-18 09:34:35,665 - INFO     - NumExpr defaulting to 4 threads.\n"
     ]
    },
    {
     "data": {
      "text/html": [
       "\n",
       "        <iframe\n",
       "            width=\"100%\"\n",
       "            height=\"475\"\n",
       "            src=\"http://DELL:40000/dtale/iframe/1\"\n",
       "            frameborder=\"0\"\n",
       "            allowfullscreen\n",
       "        ></iframe>\n",
       "        "
      ],
      "text/plain": [
       "<IPython.lib.display.IFrame at 0xb7156095e0>"
      ]
     },
     "metadata": {},
     "output_type": "display_data"
    },
    {
     "data": {
      "text/plain": []
     },
     "execution_count": 7,
     "metadata": {},
     "output_type": "execute_result"
    },
    {
     "name": "stdout",
     "output_type": "stream",
     "text": [
      "Exception occurred while processing request: Object of type bool_ is not JSON serializable\n",
      "Traceback (most recent call last):\n",
      "  File \"E:\\Nay\\lib\\site-packages\\dtale\\views.py\", line 100, in _handle_exceptions\n",
      "    return func(*args, **kwargs)\n",
      "  File \"E:\\Nay\\lib\\site-packages\\dtale\\views.py\", line 3161, in network_data\n",
      "    return jsonify(dict(nodes=nodes, edges=edges, groups=groups, success=True))\n",
      "  File \"E:\\Nay\\lib\\site-packages\\dtale\\utils.py\", line 601, in jsonify\n",
      "    return _jsonify(return_data)\n",
      "  File \"E:\\Nay\\lib\\site-packages\\flask\\json\\__init__.py\", line 370, in jsonify\n",
      "    dumps(data, indent=indent, separators=separators) + \"\\n\",\n",
      "  File \"E:\\Nay\\lib\\site-packages\\flask\\json\\__init__.py\", line 211, in dumps\n",
      "    rv = _json.dumps(obj, **kwargs)\n",
      "  File \"E:\\Nay\\lib\\json\\__init__.py\", line 234, in dumps\n",
      "    return cls(\n",
      "  File \"E:\\Nay\\lib\\json\\encoder.py\", line 199, in encode\n",
      "    chunks = self.iterencode(o, _one_shot=True)\n",
      "  File \"E:\\Nay\\lib\\json\\encoder.py\", line 257, in iterencode\n",
      "    return _iterencode(o, 0)\n",
      "  File \"E:\\Nay\\lib\\site-packages\\flask\\json\\__init__.py\", line 100, in default\n",
      "    return _json.JSONEncoder.default(self, o)\n",
      "  File \"E:\\Nay\\lib\\json\\encoder.py\", line 179, in default\n",
      "    raise TypeError(f'Object of type {o.__class__.__name__} '\n",
      "TypeError: Object of type bool_ is not JSON serializable\n"
     ]
    },
    {
     "name": "stderr",
     "output_type": "stream",
     "text": [
      "2021-05-18 09:42:18,493 - ERROR    - Exception occurred while processing request: Object of type bool_ is not JSON serializable\n",
      "Traceback (most recent call last):\n",
      "  File \"E:\\Nay\\lib\\site-packages\\dtale\\views.py\", line 100, in _handle_exceptions\n",
      "    return func(*args, **kwargs)\n",
      "  File \"E:\\Nay\\lib\\site-packages\\dtale\\views.py\", line 3161, in network_data\n",
      "    return jsonify(dict(nodes=nodes, edges=edges, groups=groups, success=True))\n",
      "  File \"E:\\Nay\\lib\\site-packages\\dtale\\utils.py\", line 601, in jsonify\n",
      "    return _jsonify(return_data)\n",
      "  File \"E:\\Nay\\lib\\site-packages\\flask\\json\\__init__.py\", line 370, in jsonify\n",
      "    dumps(data, indent=indent, separators=separators) + \"\\n\",\n",
      "  File \"E:\\Nay\\lib\\site-packages\\flask\\json\\__init__.py\", line 211, in dumps\n",
      "    rv = _json.dumps(obj, **kwargs)\n",
      "  File \"E:\\Nay\\lib\\json\\__init__.py\", line 234, in dumps\n",
      "    return cls(\n",
      "  File \"E:\\Nay\\lib\\json\\encoder.py\", line 199, in encode\n",
      "    chunks = self.iterencode(o, _one_shot=True)\n",
      "  File \"E:\\Nay\\lib\\json\\encoder.py\", line 257, in iterencode\n",
      "    return _iterencode(o, 0)\n",
      "  File \"E:\\Nay\\lib\\site-packages\\flask\\json\\__init__.py\", line 100, in default\n",
      "    return _json.JSONEncoder.default(self, o)\n",
      "  File \"E:\\Nay\\lib\\json\\encoder.py\", line 179, in default\n",
      "    raise TypeError(f'Object of type {o.__class__.__name__} '\n",
      "TypeError: Object of type bool_ is not JSON serializable\n"
     ]
    }
   ],
   "source": [
    "dtale.show(df)"
   ]
  },
  {
   "cell_type": "markdown",
   "metadata": {},
   "source": [
    "# Pandas- Profiling"
   ]
  },
  {
   "cell_type": "code",
   "execution_count": 8,
   "metadata": {},
   "outputs": [
    {
     "name": "stdout",
     "output_type": "stream",
     "text": [
      "Collecting pandas-profiling\n",
      "  Downloading pandas_profiling-3.0.0-py2.py3-none-any.whl (248 kB)\n",
      "Requirement already satisfied: tqdm>=4.48.2 in e:\\nay\\lib\\site-packages (from pandas-profiling) (4.50.2)\n",
      "Collecting htmlmin>=0.1.12\n",
      "  Downloading htmlmin-0.1.12.tar.gz (19 kB)\n",
      "Requirement already satisfied: seaborn>=0.10.1 in e:\\nay\\lib\\site-packages (from pandas-profiling) (0.11.0)\n",
      "Requirement already satisfied: missingno>=0.4.2 in e:\\nay\\lib\\site-packages (from pandas-profiling) (0.4.2)\n",
      "Requirement already satisfied: jinja2>=2.11.1 in e:\\nay\\lib\\site-packages (from pandas-profiling) (2.11.2)\n",
      "Collecting visions[type_image_path]==0.7.1\n",
      "  Downloading visions-0.7.1-py3-none-any.whl (102 kB)\n",
      "Requirement already satisfied: scipy>=1.4.1 in e:\\nay\\lib\\site-packages (from pandas-profiling) (1.5.2)\n",
      "Requirement already satisfied: matplotlib>=3.2.0 in e:\\nay\\lib\\site-packages (from pandas-profiling) (3.3.2)\n",
      "Requirement already satisfied: pandas!=1.0.0,!=1.0.1,!=1.0.2,!=1.1.0,>=0.25.3 in e:\\nay\\lib\\site-packages (from pandas-profiling) (1.1.3)\n",
      "Collecting pydantic>=1.8.1\n",
      "  Downloading pydantic-1.8.2-cp38-cp38-win_amd64.whl (2.0 MB)\n",
      "Requirement already satisfied: numpy>=1.16.0 in e:\\nay\\lib\\site-packages (from pandas-profiling) (1.19.2)\n",
      "Collecting phik>=0.11.1\n",
      "  Downloading phik-0.11.2.tar.gz (1.1 MB)\n",
      "Requirement already satisfied: requests>=2.24.0 in e:\\nay\\lib\\site-packages (from pandas-profiling) (2.24.0)\n",
      "Requirement already satisfied: joblib in e:\\nay\\lib\\site-packages (from pandas-profiling) (0.17.0)\n",
      "Requirement already satisfied: PyYAML>=5.0.0 in e:\\nay\\lib\\site-packages (from pandas-profiling) (5.3.1)\n",
      "Collecting tangled-up-in-unicode==0.1.0\n",
      "  Downloading tangled_up_in_unicode-0.1.0-py3-none-any.whl (3.1 MB)\n",
      "Requirement already satisfied: MarkupSafe>=0.23 in e:\\nay\\lib\\site-packages (from jinja2>=2.11.1->pandas-profiling) (1.1.1)\n",
      "Requirement already satisfied: bottleneck in e:\\nay\\lib\\site-packages (from visions[type_image_path]==0.7.1->pandas-profiling) (1.3.2)\n",
      "Requirement already satisfied: attrs>=19.3.0 in e:\\nay\\lib\\site-packages (from visions[type_image_path]==0.7.1->pandas-profiling) (20.3.0)\n",
      "Requirement already satisfied: networkx>=2.4 in e:\\nay\\lib\\site-packages (from visions[type_image_path]==0.7.1->pandas-profiling) (2.5)\n",
      "Collecting multimethod==1.4\n",
      "  Downloading multimethod-1.4-py2.py3-none-any.whl (7.3 kB)\n",
      "Collecting imagehash; extra == \"type_image_path\"\n",
      "  Downloading ImageHash-4.2.0-py2.py3-none-any.whl (295 kB)\n",
      "Requirement already satisfied: Pillow; extra == \"type_image_path\" in e:\\nay\\lib\\site-packages (from visions[type_image_path]==0.7.1->pandas-profiling) (8.0.1)\n",
      "Requirement already satisfied: python-dateutil>=2.1 in e:\\nay\\lib\\site-packages (from matplotlib>=3.2.0->pandas-profiling) (2.8.1)\n",
      "Requirement already satisfied: kiwisolver>=1.0.1 in e:\\nay\\lib\\site-packages (from matplotlib>=3.2.0->pandas-profiling) (1.3.0)\n",
      "Requirement already satisfied: pyparsing!=2.0.4,!=2.1.2,!=2.1.6,>=2.0.3 in e:\\nay\\lib\\site-packages (from matplotlib>=3.2.0->pandas-profiling) (2.4.7)\n",
      "Requirement already satisfied: certifi>=2020.06.20 in e:\\nay\\lib\\site-packages (from matplotlib>=3.2.0->pandas-profiling) (2020.6.20)\n",
      "Requirement already satisfied: cycler>=0.10 in e:\\nay\\lib\\site-packages (from matplotlib>=3.2.0->pandas-profiling) (0.10.0)\n",
      "Requirement already satisfied: pytz>=2017.2 in e:\\nay\\lib\\site-packages (from pandas!=1.0.0,!=1.0.1,!=1.0.2,!=1.1.0,>=0.25.3->pandas-profiling) (2020.1)\n",
      "Requirement already satisfied: typing-extensions>=3.7.4.3 in e:\\nay\\lib\\site-packages (from pydantic>=1.8.1->pandas-profiling) (3.7.4.3)\n",
      "Requirement already satisfied: urllib3!=1.25.0,!=1.25.1,<1.26,>=1.21.1 in e:\\nay\\lib\\site-packages (from requests>=2.24.0->pandas-profiling) (1.25.11)\n",
      "Requirement already satisfied: chardet<4,>=3.0.2 in e:\\nay\\lib\\site-packages (from requests>=2.24.0->pandas-profiling) (3.0.4)\n",
      "Requirement already satisfied: idna<3,>=2.5 in e:\\nay\\lib\\site-packages (from requests>=2.24.0->pandas-profiling) (2.10)\n",
      "Requirement already satisfied: decorator>=4.3.0 in e:\\nay\\lib\\site-packages (from networkx>=2.4->visions[type_image_path]==0.7.1->pandas-profiling) (4.4.2)\n",
      "Requirement already satisfied: PyWavelets in e:\\nay\\lib\\site-packages (from imagehash; extra == \"type_image_path\"->visions[type_image_path]==0.7.1->pandas-profiling) (1.1.1)\n",
      "Requirement already satisfied: six in e:\\nay\\lib\\site-packages (from imagehash; extra == \"type_image_path\"->visions[type_image_path]==0.7.1->pandas-profiling) (1.15.0)\n",
      "Building wheels for collected packages: htmlmin, phik\n",
      "  Building wheel for htmlmin (setup.py): started\n",
      "  Building wheel for htmlmin (setup.py): finished with status 'done'\n",
      "  Created wheel for htmlmin: filename=htmlmin-0.1.12-py3-none-any.whl size=27091 sha256=326eb6dd17dd62b3f62d804d272ad398654c5e37848303bc393d5356ba5ed754\n",
      "  Stored in directory: c:\\users\\my dell\\appdata\\local\\pip\\cache\\wheels\\23\\14\\6e\\4be5bfeeb027f4939a01764b48edd5996acf574b0913fe5243\n",
      "  Building wheel for phik (setup.py): started\n",
      "  Building wheel for phik (setup.py): finished with status 'done'\n",
      "  Created wheel for phik: filename=phik-0.11.2-py3-none-any.whl size=1107420 sha256=c94e4ddb39707306fe8db6031c6f0b74f31c4f4f293a8b38f645fed685176a04\n",
      "  Stored in directory: c:\\users\\my dell\\appdata\\local\\pip\\cache\\wheels\\72\\9a\\23\\097c93fd8341220d92674891b6a9a30f0e389719d9b7291bd2\n",
      "Successfully built htmlmin phik\n",
      "Installing collected packages: htmlmin, multimethod, tangled-up-in-unicode, imagehash, visions, pydantic, phik, pandas-profiling\n",
      "Successfully installed htmlmin-0.1.12 imagehash-4.2.0 multimethod-1.4 pandas-profiling-3.0.0 phik-0.11.2 pydantic-1.8.2 tangled-up-in-unicode-0.1.0 visions-0.7.1\n"
     ]
    },
    {
     "data": {
      "image/png": "[encoded data removed]",
      "text/plain": [
       "<Figure size 1728x720 with 4 Axes>"
      ]
     },
     "metadata": {
      "needs_background": "light"
     },
     "output_type": "display_data"
    },
    {
     "data": {
      "image/png": "[encoded data removed]",
      "text/plain": [
       "<Figure size 1440x864 with 2 Axes>"
      ]
     },
     "metadata": {
      "needs_background": "light"
     },
     "output_type": "display_data"
    },
    {
     "data": {
      "image/png": "[encoded data removed]",
      "text/plain": [
       "<Figure size 1800x720 with 1 Axes>"
      ]
     },
     "metadata": {
      "needs_background": "light"
     },
     "output_type": "display_data"
    }
   ],
   "source": [
    "!pip install pandas-profiling"
   ]
  },
  {
   "cell_type": "code",
   "execution_count": 9,
   "metadata": {},
   "outputs": [],
   "source": [
    "import seaborn as sns"
   ]
  },
  {
   "cell_type": "code",
   "execution_count": 10,
   "metadata": {},
   "outputs": [],
   "source": [
    "df1= sns.load_dataset('tips')"
   ]
  },
  {
   "cell_type": "code",
   "execution_count": 11,
   "metadata": {},
   "outputs": [
    {
     "data": {
      "text/html": [
       "<div>\n",
       "<style scoped>\n",
       "    .dataframe tbody tr th:only-of-type {\n",
       "        vertical-align: middle;\n",
       "    }\n",
       "\n",
       "    .dataframe tbody tr th {\n",
       "        vertical-align: top;\n",
       "    }\n",
       "\n",
       "    .dataframe thead th {\n",
       "        text-align: right;\n",
       "    }\n",
       "</style>\n",
       "<table border=\"1\" class=\"dataframe\">\n",
       "  <thead>\n",
       "    <tr style=\"text-align: right;\">\n",
       "      <th></th>\n",
       "      <th>total_bill</th>\n",
       "      <th>tip</th>\n",
       "      <th>sex</th>\n",
       "      <th>smoker</th>\n",
       "      <th>day</th>\n",
       "      <th>time</th>\n",
       "      <th>size</th>\n",
       "    </tr>\n",
       "  </thead>\n",
       "  <tbody>\n",
       "    <tr>\n",
       "      <th>0</th>\n",
       "      <td>16.99</td>\n",
       "      <td>1.01</td>\n",
       "      <td>Female</td>\n",
       "      <td>No</td>\n",
       "      <td>Sun</td>\n",
       "      <td>Dinner</td>\n",
       "      <td>2</td>\n",
       "    </tr>\n",
       "    <tr>\n",
       "      <th>1</th>\n",
       "      <td>10.34</td>\n",
       "      <td>1.66</td>\n",
       "      <td>Male</td>\n",
       "      <td>No</td>\n",
       "      <td>Sun</td>\n",
       "      <td>Dinner</td>\n",
       "      <td>3</td>\n",
       "    </tr>\n",
       "    <tr>\n",
       "      <th>2</th>\n",
       "      <td>21.01</td>\n",
       "      <td>3.50</td>\n",
       "      <td>Male</td>\n",
       "      <td>No</td>\n",
       "      <td>Sun</td>\n",
       "      <td>Dinner</td>\n",
       "      <td>3</td>\n",
       "    </tr>\n",
       "    <tr>\n",
       "      <th>3</th>\n",
       "      <td>23.68</td>\n",
       "      <td>3.31</td>\n",
       "      <td>Male</td>\n",
       "      <td>No</td>\n",
       "      <td>Sun</td>\n",
       "      <td>Dinner</td>\n",
       "      <td>2</td>\n",
       "    </tr>\n",
       "    <tr>\n",
       "      <th>4</th>\n",
       "      <td>24.59</td>\n",
       "      <td>3.61</td>\n",
       "      <td>Female</td>\n",
       "      <td>No</td>\n",
       "      <td>Sun</td>\n",
       "      <td>Dinner</td>\n",
       "      <td>4</td>\n",
       "    </tr>\n",
       "    <tr>\n",
       "      <th>5</th>\n",
       "      <td>25.29</td>\n",
       "      <td>4.71</td>\n",
       "      <td>Male</td>\n",
       "      <td>No</td>\n",
       "      <td>Sun</td>\n",
       "      <td>Dinner</td>\n",
       "      <td>4</td>\n",
       "    </tr>\n",
       "    <tr>\n",
       "      <th>6</th>\n",
       "      <td>8.77</td>\n",
       "      <td>2.00</td>\n",
       "      <td>Male</td>\n",
       "      <td>No</td>\n",
       "      <td>Sun</td>\n",
       "      <td>Dinner</td>\n",
       "      <td>2</td>\n",
       "    </tr>\n",
       "    <tr>\n",
       "      <th>7</th>\n",
       "      <td>26.88</td>\n",
       "      <td>3.12</td>\n",
       "      <td>Male</td>\n",
       "      <td>No</td>\n",
       "      <td>Sun</td>\n",
       "      <td>Dinner</td>\n",
       "      <td>4</td>\n",
       "    </tr>\n",
       "    <tr>\n",
       "      <th>8</th>\n",
       "      <td>15.04</td>\n",
       "      <td>1.96</td>\n",
       "      <td>Male</td>\n",
       "      <td>No</td>\n",
       "      <td>Sun</td>\n",
       "      <td>Dinner</td>\n",
       "      <td>2</td>\n",
       "    </tr>\n",
       "    <tr>\n",
       "      <th>9</th>\n",
       "      <td>14.78</td>\n",
       "      <td>3.23</td>\n",
       "      <td>Male</td>\n",
       "      <td>No</td>\n",
       "      <td>Sun</td>\n",
       "      <td>Dinner</td>\n",
       "      <td>2</td>\n",
       "    </tr>\n",
       "  </tbody>\n",
       "</table>\n",
       "</div>"
      ],
      "text/plain": [
       "   total_bill   tip     sex smoker  day    time  size\n",
       "0       16.99  1.01  Female     No  Sun  Dinner     2\n",
       "1       10.34  1.66    Male     No  Sun  Dinner     3\n",
       "2       21.01  3.50    Male     No  Sun  Dinner     3\n",
       "3       23.68  3.31    Male     No  Sun  Dinner     2\n",
       "4       24.59  3.61  Female     No  Sun  Dinner     4\n",
       "5       25.29  4.71    Male     No  Sun  Dinner     4\n",
       "6        8.77  2.00    Male     No  Sun  Dinner     2\n",
       "7       26.88  3.12    Male     No  Sun  Dinner     4\n",
       "8       15.04  1.96    Male     No  Sun  Dinner     2\n",
       "9       14.78  3.23    Male     No  Sun  Dinner     2"
      ]
     },
     "execution_count": 11,
     "metadata": {},
     "output_type": "execute_result"
    }
   ],
   "source": [
    "df1.head(10)"
   ]
  },
  {
   "cell_type": "code",
   "execution_count": 13,
   "metadata": {},
   "outputs": [],
   "source": [
    "from pandas_profiling import ProfileReport"
   ]
  },
  {
   "cell_type": "code",
   "execution_count": 14,
   "metadata": {},
   "outputs": [],
   "source": [
    "Profile=ProfileReport(df1,explorative=True)"
   ]
  },
  {
   "cell_type": "code",
   "execution_count": 16,
   "metadata": {},
   "outputs": [
    {
     "data": {
      "application/vnd.jupyter.widget-view+json": {
       "model_id": "dcd4c46e66aa4b82bc640da00cdb48a5",
       "version_major": 2,
       "version_minor": 0
      },
      "text/plain": [
       "HBox(children=(HTML(value='Summarize dataset'), FloatProgress(value=0.0, max=20.0), HTML(value='')))"
      ]
     },
     "metadata": {},
     "output_type": "display_data"
    },
    {
     "name": "stdout",
     "output_type": "stream",
     "text": [
      "\n"
     ]
    },
    {
     "data": {
      "application/vnd.jupyter.widget-view+json": {
       "model_id": "67690bea48f143c5be34442abf22dad9",
       "version_major": 2,
       "version_minor": 0
      },
      "text/plain": [
       "HBox(children=(HTML(value='Generate report structure'), FloatProgress(value=0.0, max=1.0), HTML(value='')))"
      ]
     },
     "metadata": {},
     "output_type": "display_data"
    },
    {
     "name": "stdout",
     "output_type": "stream",
     "text": [
      "\n"
     ]
    },
    {
     "data": {
      "application/vnd.jupyter.widget-view+json": {
       "model_id": "0d72e55425bc4c3f9e23dc920e31bfb5",
       "version_major": 2,
       "version_minor": 0
      },
      "text/plain": [
       "HBox(children=(HTML(value='Render HTML'), FloatProgress(value=0.0, max=1.0), HTML(value='')))"
      ]
     },
     "metadata": {},
     "output_type": "display_data"
    },
    {
     "name": "stdout",
     "output_type": "stream",
     "text": [
      "\n"
     ]
    },
    {
     "data": {
      "application/vnd.jupyter.widget-view+json": {
       "model_id": "5733817e14df48d58e66ab494d0c02ce",
       "version_major": 2,
       "version_minor": 0
      },
      "text/plain": [
       "HBox(children=(HTML(value='Export report to file'), FloatProgress(value=0.0, max=1.0), HTML(value='')))"
      ]
     },
     "metadata": {},
     "output_type": "display_data"
    },
    {
     "name": "stdout",
     "output_type": "stream",
     "text": [
      "\n"
     ]
    }
   ],
   "source": [
    "Profile.to_file('output.html')"
   ]
  },
  {
   "cell_type": "markdown",
   "metadata": {},
   "source": [
    "# Sweetviz"
   ]
  },
  {
   "cell_type": "code",
   "execution_count": 17,
   "metadata": {},
   "outputs": [
    {
     "name": "stdout",
     "output_type": "stream",
     "text": [
      "Collecting sweetviz\n",
      "  Downloading sweetviz-2.1.0-py3-none-any.whl (15.1 MB)\n",
      "Requirement already satisfied: scipy>=1.3.2 in e:\\nay\\lib\\site-packages (from sweetviz) (1.5.2)\n",
      "Requirement already satisfied: jinja2>=2.11.1 in e:\\nay\\lib\\site-packages (from sweetviz) (2.11.2)\n",
      "Requirement already satisfied: pandas!=1.0.0,!=1.0.1,!=1.0.2,>=0.25.3 in e:\\nay\\lib\\site-packages (from sweetviz) (1.1.3)\n",
      "Requirement already satisfied: tqdm>=4.43.0 in e:\\nay\\lib\\site-packages (from sweetviz) (4.50.2)\n",
      "Collecting importlib-resources>=1.2.0\n",
      "  Downloading importlib_resources-5.1.3-py3-none-any.whl (26 kB)\n",
      "Requirement already satisfied: numpy>=1.16.0 in e:\\nay\\lib\\site-packages (from sweetviz) (1.19.2)\n",
      "Requirement already satisfied: matplotlib>=3.1.3 in e:\\nay\\lib\\site-packages (from sweetviz) (3.3.2)\n",
      "Requirement already satisfied: MarkupSafe>=0.23 in e:\\nay\\lib\\site-packages (from jinja2>=2.11.1->sweetviz) (1.1.1)\n",
      "Requirement already satisfied: pytz>=2017.2 in e:\\nay\\lib\\site-packages (from pandas!=1.0.0,!=1.0.1,!=1.0.2,>=0.25.3->sweetviz) (2020.1)\n",
      "Requirement already satisfied: python-dateutil>=2.7.3 in e:\\nay\\lib\\site-packages (from pandas!=1.0.0,!=1.0.1,!=1.0.2,>=0.25.3->sweetviz) (2.8.1)\n",
      "Requirement already satisfied: certifi>=2020.06.20 in e:\\nay\\lib\\site-packages (from matplotlib>=3.1.3->sweetviz) (2020.6.20)\n",
      "Requirement already satisfied: pyparsing!=2.0.4,!=2.1.2,!=2.1.6,>=2.0.3 in e:\\nay\\lib\\site-packages (from matplotlib>=3.1.3->sweetviz) (2.4.7)\n",
      "Requirement already satisfied: kiwisolver>=1.0.1 in e:\\nay\\lib\\site-packages (from matplotlib>=3.1.3->sweetviz) (1.3.0)\n",
      "Requirement already satisfied: pillow>=6.2.0 in e:\\nay\\lib\\site-packages (from matplotlib>=3.1.3->sweetviz) (8.0.1)\n",
      "Requirement already satisfied: cycler>=0.10 in e:\\nay\\lib\\site-packages (from matplotlib>=3.1.3->sweetviz) (0.10.0)\n",
      "Requirement already satisfied: six>=1.5 in e:\\nay\\lib\\site-packages (from python-dateutil>=2.7.3->pandas!=1.0.0,!=1.0.1,!=1.0.2,>=0.25.3->sweetviz) (1.15.0)\n",
      "Installing collected packages: importlib-resources, sweetviz\n",
      "Successfully installed importlib-resources-5.1.3 sweetviz-2.1.0\n"
     ]
    }
   ],
   "source": [
    "!pip install sweetviz"
   ]
  },
  {
   "cell_type": "code",
   "execution_count": 18,
   "metadata": {},
   "outputs": [],
   "source": [
    "import sweetviz as sv"
   ]
  },
  {
   "cell_type": "code",
   "execution_count": 19,
   "metadata": {},
   "outputs": [
    {
     "data": {
      "application/vnd.jupyter.widget-view+json": {
       "model_id": "bf4db45607274b53af786b7b401d5671",
       "version_major": 2,
       "version_minor": 0
      },
      "text/plain": [
       "HBox(children=(HTML(value=''), FloatProgress(value=0.0, layout=Layout(flex='2'), max=16.0), HTML(value='')), l…"
      ]
     },
     "metadata": {},
     "output_type": "display_data"
    },
    {
     "name": "stdout",
     "output_type": "stream",
     "text": [
      "\n",
      "Report sweet_report.html was generated! NOTEBOOK/COLAB USERS: the web browser MAY not pop up, regardless, the report IS saved in your notebook/colab files.\n"
     ]
    }
   ],
   "source": [
    "report = sv.analyze(df)\n",
    "report.show_html('sweet_report.html')"
   ]
  },
  {
   "cell_type": "code",
   "execution_count": null,
   "metadata": {},
   "outputs": [],
   "source": []
  }
 ],
 "metadata": {
  "kernelspec": {
   "display_name": "Python 3",
   "language": "python",
   "name": "python3"
  },
  "language_info": {
   "codemirror_mode": {
    "name": "ipython",
    "version": 3
   },
   "file_extension": ".py",
   "mimetype": "text/x-python",
   "name": "python",
   "nbconvert_exporter": "python",
   "pygments_lexer": "ipython3",
   "version": "3.8.5"
  }
 },
 "nbformat": 4,
 "nbformat_minor": 4
}
